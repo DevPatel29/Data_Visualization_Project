{
 "cells": [
  {
   "cell_type": "code",
   "execution_count": 1,
   "id": "a22f16f8",
   "metadata": {},
   "outputs": [],
   "source": [
    "import numpy as np\n",
    "import pandas as pd\n",
    "import plotly.graph_objects as go\n",
    "import matplotlib.pyplot as plt\n",
    "import networkx as nx"
   ]
  },
  {
   "cell_type": "code",
   "execution_count": 2,
   "id": "066a434e",
   "metadata": {},
   "outputs": [
    {
     "name": "stderr",
     "output_type": "stream",
     "text": [
      "C:\\Users\\Dev\\anaconda3\\lib\\site-packages\\IPython\\core\\interactiveshell.py:3165: DtypeWarning: Columns (1,2,3,4) have mixed types.Specify dtype option on import or set low_memory=False.\n",
      "  has_raised = await self.run_ast_nodes(code_ast.body, cell_name,\n"
     ]
    }
   ],
   "source": [
    "data = pd.read_csv(\"rabobank_data.csv\", header = None, delimiter = ';')\n",
    "data = data.rename(columns=data.iloc[0])\n",
    "data = data.drop(0)\n",
    "data['count'] = data['count'].astype(int)\n",
    "data['total'] = data['total'].astype(int)"
   ]
  },
  {
   "cell_type": "code",
   "execution_count": 3,
   "id": "d9eb9bdd",
   "metadata": {},
   "outputs": [],
   "source": [
    "def map_account_to_numbers():\n",
    "    lst1 = np.array(data['start_id'])\n",
    "    lst2 = np.array(data['end_id'])\n",
    "    lst = np.concatenate((lst1,lst2))\n",
    "    lst = np.unique(lst)\n",
    "\n",
    "    dict = {}\n",
    "\n",
    "    for i in range(len(lst)):\n",
    "        dict[lst[i]] = i + 1\n",
    "    return dict\n",
    "\n",
    "mapping = map_account_to_numbers()"
   ]
  },
  {
   "cell_type": "code",
   "execution_count": 4,
   "id": "11a08075",
   "metadata": {},
   "outputs": [],
   "source": [
    "def get_node_with_highest_outdegree(x):\n",
    "    return np.array(data.groupby(['start_id']).sum().sort_values('count',ascending = False)[:x].index)"
   ]
  },
  {
   "cell_type": "code",
   "execution_count": 6,
   "id": "6c64567b",
   "metadata": {},
   "outputs": [],
   "source": [
    "node_in_use = get_node_with_highest_outdegree(100)\n",
    "data_temp = data[ (data['start_id'].isin(node_in_use)) & (data['end_id'].isin(node_in_use))]\n",
    "\n",
    "temp = []\n",
    "for i in data_temp.index:\n",
    "    start_id = data_temp['start_id'][i]\n",
    "    end_id = data_temp['end_id'][i]\n",
    "    wgt = data_temp['count'][i]\n",
    "    src = mapping[start_id]\n",
    "    dst = mapping[end_id]\n",
    "    temp.append([src,dst,wgt])"
   ]
  },
  {
   "cell_type": "code",
   "execution_count": 7,
   "id": "8d7bfffc",
   "metadata": {},
   "outputs": [],
   "source": [
    "edge = pd.DataFrame(data=temp, columns=['Source','Target','Weight'])\n",
    "edge.to_csv('edge.csv', sep = ',', index = False)"
   ]
  },
  {
   "cell_type": "code",
   "execution_count": null,
   "id": "5a6b7ed0",
   "metadata": {},
   "outputs": [],
   "source": []
  }
 ],
 "metadata": {
  "kernelspec": {
   "display_name": "Python 3",
   "language": "python",
   "name": "python3"
  },
  "language_info": {
   "codemirror_mode": {
    "name": "ipython",
    "version": 3
   },
   "file_extension": ".py",
   "mimetype": "text/x-python",
   "name": "python",
   "nbconvert_exporter": "python",
   "pygments_lexer": "ipython3",
   "version": "3.8.8"
  }
 },
 "nbformat": 4,
 "nbformat_minor": 5
}
